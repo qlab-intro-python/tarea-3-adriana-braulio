{
 "cells": [
  {
   "cell_type": "markdown",
   "metadata": {},
   "source": [
    "# **Tarea Nº 3**\n",
    "Scope: If, Loops, Functions"
   ]
  },
  {
   "cell_type": "markdown",
   "metadata": {},
   "source": [
    "Curso:          Fundamentos de Programación en Python para Macroeconomía y Finanzas     \n",
    "Profesor:       Victor Fuentes Campos     "
   ]
  },
  {
   "cell_type": "markdown",
   "metadata": {},
   "source": [
    "- Fecha y hora de entrega: Miércoles 10 de enero, 11:59am\n",
    "- Agregue los nombres de las personas con las que discutió esta tarea: Adriana Arce y Braulio Mundaca\n",
    "- Envíe su tarea haciendo el `push` de su código a su repo en GitHub Classroom: "
   ]
  },
  {
   "cell_type": "markdown",
   "metadata": {},
   "source": [
    "As of 2022 Q2, there are almost 3.5 million Andriod apps on Google Play and 1.6 million iOS apps on the App Store, and counting. Giving the digital revolution, there is an increase interest in investment opportunities in this sector\n",
    "\n",
    "<img src=\"popular_app_stores.png\" max-width=\"300\">\n",
    "\n",
    "Under this context, you will assess a financial committee interested in investing in software development. The goal is to determine the kinds of apps that are likely to attract more users because the number of people using our apps affect our revenue. For this purpose, you will access to data from Google Play and App Store.\n",
    "\n",
    "- Google Play: you can dowload the dataset containing approximately 11k Android apps from [this link](https://dq-content.s3.amazonaws.com/350/googleplaystore.csv). It was collected in August 2018\n",
    "- App Store: you can dowload the dataset containing roughly 7k iOS apps from [this link](https://dq-content.s3.amazonaws.com/350/AppleStore.csv). It was collected in July 2017"
   ]
  },
  {
   "cell_type": "markdown",
   "metadata": {},
   "source": [
    "## Exploring data"
   ]
  },
  {
   "cell_type": "markdown",
   "metadata": {},
   "source": [
    "1. Open the two datasets we mentioned above, and save both as lists of lists"
   ]
  },
  {
   "cell_type": "code",
   "execution_count": 6,
   "metadata": {},
   "outputs": [],
   "source": [
    "# Solution\n",
    "import pandas as pd\n",
    "\n",
    "# Abrimos el primer conjunto de datos y lo guarda como una lista de listas\n",
    "Google_Play = pd.read_csv(r\"googleplaystore.csv\") #(Colocar dirección del archivo csv)\n",
    "dataset1 = Google_Play.values.tolist()\n",
    "\n",
    "# Abrimos el segundo conjunto de datos y lo guarda como una lista de listas\n",
    "Apple_Store = pd.read_csv(r\"AppleStore.csv\") #(Colocar dirección del archivo csv)\n",
    "dataset2 = Apple_Store.values.tolist()\n",
    "\n",
    "#print(dataset1, dataset2), quitarle el numeral en caso se quiera ver las listas"
   ]
  },
  {
   "cell_type": "markdown",
   "metadata": {},
   "source": [
    "2. Print the first few rows of each dataset and find the number of rows and columns of each dataset"
   ]
  },
  {
   "cell_type": "code",
   "execution_count": 7,
   "metadata": {},
   "outputs": [
    {
     "name": "stdout",
     "output_type": "stream",
     "text": [
      "                                                 App        Category  Rating  \\\n",
      "0     Photo Editor & Candy Camera & Grid & ScrapBook  ART_AND_DESIGN     4.1   \n",
      "1                                Coloring book moana  ART_AND_DESIGN     3.9   \n",
      "2  U Launcher Lite – FREE Live Cool Themes, Hide ...  ART_AND_DESIGN     4.7   \n",
      "3                              Sketch - Draw & Paint  ART_AND_DESIGN     4.5   \n",
      "4              Pixel Draw - Number Art Coloring Book  ART_AND_DESIGN     4.3   \n",
      "\n",
      "  Reviews  Size     Installs  Type Price Content Rating  \\\n",
      "0     159   19M      10,000+  Free     0       Everyone   \n",
      "1     967   14M     500,000+  Free     0       Everyone   \n",
      "2   87510  8.7M   5,000,000+  Free     0       Everyone   \n",
      "3  215644   25M  50,000,000+  Free     0           Teen   \n",
      "4     967  2.8M     100,000+  Free     0       Everyone   \n",
      "\n",
      "                      Genres      Last Updated         Current Ver  \\\n",
      "0               Art & Design   January 7, 2018               1.0.0   \n",
      "1  Art & Design;Pretend Play  January 15, 2018               2.0.0   \n",
      "2               Art & Design    August 1, 2018               1.2.4   \n",
      "3               Art & Design      June 8, 2018  Varies with device   \n",
      "4    Art & Design;Creativity     June 20, 2018                 1.1   \n",
      "\n",
      "    Android Ver  \n",
      "0  4.0.3 and up  \n",
      "1  4.0.3 and up  \n",
      "2  4.0.3 and up  \n",
      "3    4.2 and up  \n",
      "4    4.4 and up  \n",
      "El primer conjunto de datos tiene 10841 filas y 13 columnas.\n"
     ]
    }
   ],
   "source": [
    "# Solution (1ra parte)\n",
    "\n",
    "# Imprimimos las primeras filas del primer conjunto de datos\n",
    "print(Google_Play.head())\n",
    "# Encontramos e imprimimos el número de filas y columnas del primer conjunto de datos\n",
    "print(f'El primer conjunto de datos tiene {Google_Play.shape[0]} filas y {Google_Play.shape[1]} columnas.') #Aquí el [0] hace referencia a las filas y [1] hace referencia a las columnas"
   ]
  },
  {
   "cell_type": "code",
   "execution_count": 10,
   "metadata": {},
   "outputs": [
    {
     "name": "stdout",
     "output_type": "stream",
     "text": [
      "          id               track_name  size_bytes currency  price  \\\n",
      "0  284882215                 Facebook   389879808      USD    0.0   \n",
      "1  389801252                Instagram   113954816      USD    0.0   \n",
      "2  529479190           Clash of Clans   116476928      USD    0.0   \n",
      "3  420009108               Temple Run    65921024      USD    0.0   \n",
      "4  284035177  Pandora - Music & Radio   130242560      USD    0.0   \n",
      "\n",
      "   rating_count_tot  rating_count_ver  user_rating  user_rating_ver      ver  \\\n",
      "0           2974676               212          3.5              3.5     95.0   \n",
      "1           2161558              1289          4.5              4.0    10.23   \n",
      "2           2130805               579          4.5              4.5  9.24.12   \n",
      "3           1724546              3842          4.5              4.0    1.6.2   \n",
      "4           1126879              3594          4.0              4.5    8.4.1   \n",
      "\n",
      "  cont_rating        prime_genre  sup_devices.num  ipadSc_urls.num  lang.num  \\\n",
      "0          4+  Social Networking               37                1        29   \n",
      "1         12+      Photo & Video               37                0        29   \n",
      "2          9+              Games               38                5        18   \n",
      "3          9+              Games               40                5         1   \n",
      "4         12+              Music               37                4         1   \n",
      "\n",
      "   vpp_lic  \n",
      "0        1  \n",
      "1        1  \n",
      "2        1  \n",
      "3        1  \n",
      "4        1  \n",
      "El segundo conjunto de datos tiene 7197 filas y 16 columnas.\n"
     ]
    }
   ],
   "source": [
    "#Solution(2da parte)\n",
    "\n",
    "# Imprime las primeras filas del segundo conjunto de datos\n",
    "print(Apple_Store.head())\n",
    "# Encuentra e imprime el número de filas y columnas del segundo conjunto de datos\n",
    "print(f'El segundo conjunto de datos tiene {Apple_Store.shape[0]} filas y {Apple_Store.shape[1]} columnas.')"
   ]
  },
  {
   "cell_type": "markdown",
   "metadata": {},
   "source": [
    "For more info about the columns in the App Store dataset, visit [this link](https://www.kaggle.com/datasets/ramamet4/app-store-apple-data-set-10k-apps?select=AppleStore.csv)"
   ]
  },
  {
   "cell_type": "markdown",
   "metadata": {},
   "source": [
    "## Preparing data"
   ]
  },
  {
   "cell_type": "markdown",
   "metadata": {},
   "source": [
    "3. As noted before in the [discussion forum](https://www.kaggle.com/datasets/lava18/google-play-store-apps/discussion/66015), there is an error in the Google Play dataset. Please, remove the entry 10472 and explain shortly why"
   ]
  },
  {
   "cell_type": "code",
   "execution_count": null,
   "metadata": {},
   "outputs": [],
   "source": [
    "# Solution"
   ]
  },
  {
   "cell_type": "markdown",
   "metadata": {},
   "source": [
    "4. Count the number of duplicates in the Google Play dataset. You must build a function to loop through the Google Play dataset"
   ]
  },
  {
   "cell_type": "code",
   "execution_count": null,
   "metadata": {},
   "outputs": [],
   "source": [
    "# Solution"
   ]
  },
  {
   "cell_type": "markdown",
   "metadata": {},
   "source": [
    "5. Remove duplicates ..."
   ]
  },
  {
   "cell_type": "markdown",
   "metadata": {},
   "source": [
    "5. a. Create a dictionary, where each dictionary key is a unique app name and the corresponding dictionary value is the highest number of reviews of that app\n"
   ]
  },
  {
   "cell_type": "code",
   "execution_count": null,
   "metadata": {},
   "outputs": [],
   "source": [
    "# Solution"
   ]
  },
  {
   "cell_type": "markdown",
   "metadata": {},
   "source": [
    "5. b. Use the information stored in the dictionary and create a new dataset, which will have only one entry per app (and for each app, we'll only select the entry with the highest number of reviews).\n"
   ]
  },
  {
   "cell_type": "code",
   "execution_count": null,
   "metadata": {},
   "outputs": [],
   "source": [
    "# Solution"
   ]
  },
  {
   "cell_type": "markdown",
   "metadata": {},
   "source": [
    "5. c. Explore the cleaned dataset, it should have 9,659 rows"
   ]
  },
  {
   "cell_type": "code",
   "execution_count": null,
   "metadata": {},
   "outputs": [],
   "source": [
    "# Solution"
   ]
  },
  {
   "cell_type": "markdown",
   "metadata": {},
   "source": [
    "6. Remove non-english apps from both Android and Apple datasets. You should write a function that takes a string, if there's more than three characters that fall outside the ASCII range (0 - 127), then the function should return False (identify the string as non-English), otherwise it should return True. Hint: use the [```ord()```  function](https://www.w3schools.com/python/ref_func_ord.asp)"
   ]
  },
  {
   "cell_type": "code",
   "execution_count": 13,
   "metadata": {},
   "outputs": [],
   "source": [
    "# For instance\n",
    "correct_english_name = \"Instachat 😜\"  # 1 character outside the ASCII range (😜)\n",
    "incorrect_english_name = \"爱奇艺PPS -《欢乐颂2》电视剧热播\" # 13 character outside the ASCII range (ie 播)"
   ]
  },
  {
   "cell_type": "code",
   "execution_count": 14,
   "metadata": {},
   "outputs": [
    {
     "name": "stdout",
     "output_type": "stream",
     "text": [
      "73\n",
      "116\n",
      "45\n",
      "128540\n",
      "29233\n"
     ]
    }
   ],
   "source": [
    "print(ord(\"I\"))\n",
    "print(ord(\"t\"))\n",
    "print(ord(\"-\"))\n",
    "print(ord(\"😜\"))\n",
    "print(ord(\"爱\"))"
   ]
  },
  {
   "cell_type": "code",
   "execution_count": null,
   "metadata": {},
   "outputs": [],
   "source": [
    "# Solution"
   ]
  },
  {
   "cell_type": "markdown",
   "metadata": {},
   "source": [
    "7. Loop through each dataset to isolate the free apps in separate lists. Make sure you identify the columns describing the app price correctly. Be careful, prices come up as strings ('0', $0.99, $2.99, etc.), so make sure you're not checking an integer or a float in your conditional statements. How many apps are free?\n"
   ]
  },
  {
   "cell_type": "code",
   "execution_count": null,
   "metadata": {},
   "outputs": [],
   "source": [
    "# Solution"
   ]
  },
  {
   "cell_type": "markdown",
   "metadata": {},
   "source": [
    "## Exploring data"
   ]
  },
  {
   "cell_type": "markdown",
   "metadata": {},
   "source": [
    " 8. Build a frequency table for the ```prime_genre``` column of the App Store dataset, and the ```Genres``` and ```Category``` columns of the Google Play data set. What are the most common genres for each market? You must develop and deploy your function"
   ]
  },
  {
   "cell_type": "code",
   "execution_count": null,
   "metadata": {},
   "outputs": [],
   "source": [
    "# Solution"
   ]
  },
  {
   "cell_type": "markdown",
   "metadata": {},
   "source": [
    " 9. One way to find out what genres are the most popular (have the most users) is to calculate the average number of installs for each app genre. Based on that exercise, give one app profile recommendation for Google Play.\n",
    " \n",
    "    For the Google Play data set, we can find the required information in the ```Installs``` column. Then, compute the average number of installs by genre. Hint 1: consider only unique values of the ```Category``` column. Hint 2: If an app has, for instance, ```1,000,000+``` assume it as ```1,000,000``` installs. Hint 3: Be careful with a skewed distribution"
   ]
  },
  {
   "cell_type": "code",
   "execution_count": null,
   "metadata": {},
   "outputs": [],
   "source": [
    "# Solution"
   ]
  },
  {
   "cell_type": "markdown",
   "metadata": {},
   "source": [
    " 10. The App Store dataset doesn´t have the ```installs``` information. Then, you will construct the average rating from the ```rating_count_tot``` column per genre. Based on that exercise, give one app profile recommendation for the App Store"
   ]
  },
  {
   "cell_type": "code",
   "execution_count": null,
   "metadata": {},
   "outputs": [],
   "source": [
    "# Solution"
   ]
  }
 ],
 "metadata": {
  "hide_input": false,
  "kernelspec": {
   "display_name": "Python 3 (ipykernel)",
   "language": "python",
   "name": "python3"
  },
  "language_info": {
   "codemirror_mode": {
    "name": "ipython",
    "version": 3
   },
   "file_extension": ".py",
   "mimetype": "text/x-python",
   "name": "python",
   "nbconvert_exporter": "python",
   "pygments_lexer": "ipython3",
   "version": "3.11.5"
  },
  "toc": {
   "base_numbering": 1,
   "nav_menu": {},
   "number_sections": true,
   "sideBar": true,
   "skip_h1_title": false,
   "title_cell": "Table of Contents",
   "title_sidebar": "Contents",
   "toc_cell": false,
   "toc_position": {},
   "toc_section_display": true,
   "toc_window_display": false
  }
 },
 "nbformat": 4,
 "nbformat_minor": 4
}
